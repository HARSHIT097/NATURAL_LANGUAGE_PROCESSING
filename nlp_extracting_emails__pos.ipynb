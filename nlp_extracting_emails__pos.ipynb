{
  "nbformat": 4,
  "nbformat_minor": 0,
  "metadata": {
    "colab": {
      "name": "nlp_extracting_emails__pos.ipynb",
      "provenance": [],
      "collapsed_sections": [],
      "authorship_tag": "ABX9TyPVoEYjIIrDke7OF8xtYCJI",
      "include_colab_link": true
    },
    "kernelspec": {
      "name": "python3",
      "display_name": "Python 3"
    }
  },
  "cells": [
    {
      "cell_type": "markdown",
      "metadata": {
        "id": "view-in-github",
        "colab_type": "text"
      },
      "source": [
        "<a href=\"https://colab.research.google.com/github/HARSHIT097/NATURAL_LANGUAGE_PROCESSING/blob/main/nlp_extracting_emails__pos.ipynb\" target=\"_parent\"><img src=\"https://colab.research.google.com/assets/colab-badge.svg\" alt=\"Open In Colab\"/></a>"
      ]
    },
    {
      "cell_type": "markdown",
      "metadata": {
        "id": "gdxtN7wlJHQM"
      },
      "source": [
        "Q.2. . Perform following activities: 10 Marks\n",
        " [5 Strategy+ 5 Implementation]\n",
        "\n",
        "\n",
        "A. Part of Speech analysis on\n",
        "“Lewis Hamilton and Michael Schumacher hold the record for the most World Drivers' Championships, both\n",
        "having won the title on seven occasions. Juan Manuel Fangio is third with five titles.”\n",
        "\n",
        "\n",
        "\n",
        "\n",
        "Answer"
      ]
    },
    {
      "cell_type": "code",
      "metadata": {
        "id": "AZQ21GA5KvLR"
      },
      "source": [
        "import spacy"
      ],
      "execution_count": null,
      "outputs": []
    },
    {
      "cell_type": "code",
      "metadata": {
        "id": "J6BUjW3qKcF1"
      },
      "source": [
        "# Load small english model: https://spacy.io/models\n",
        "\n",
        "nlp = spacy.load(\"en_core_web_sm\")"
      ],
      "execution_count": null,
      "outputs": []
    },
    {
      "cell_type": "markdown",
      "metadata": {
        "id": "qpREjxIoLqyq"
      },
      "source": [
        "# Answer A"
      ]
    },
    {
      "cell_type": "code",
      "metadata": {
        "colab": {
          "base_uri": "https://localhost:8080/"
        },
        "id": "8wgmRdBrLyW_",
        "outputId": "5cada760-f276-43b0-bb72-bf58a5b4b995"
      },
      "source": [
        "text = '''Lewis Hamilton and Michael Schumacher hold the record for the most World\\\n",
        " Drivers' Championships, both having won the title on seven occasions. Juan Manuel\\\n",
        " Fangio is third with five titles.'''\n",
        "\n",
        "# reading text\n",
        "doc = nlp(text)\n",
        "\n",
        "# printing the tokens and their respective POS tags\n",
        "for token in doc:\n",
        "  print(token.text,'---> ',token.pos_)"
      ],
      "execution_count": null,
      "outputs": [
        {
          "output_type": "stream",
          "text": [
            "Lewis --->  PROPN\n",
            "Hamilton --->  PROPN\n",
            "and --->  CCONJ\n",
            "Michael --->  PROPN\n",
            "Schumacher --->  PROPN\n",
            "hold --->  VERB\n",
            "the --->  DET\n",
            "record --->  NOUN\n",
            "for --->  ADP\n",
            "the --->  DET\n",
            "most --->  ADJ\n",
            "World --->  PROPN\n",
            "Drivers --->  PROPN\n",
            "' --->  PART\n",
            "Championships --->  PROPN\n",
            ", --->  PUNCT\n",
            "both --->  DET\n",
            "having --->  VERB\n",
            "won --->  VERB\n",
            "the --->  DET\n",
            "title --->  NOUN\n",
            "on --->  ADP\n",
            "seven --->  NUM\n",
            "occasions --->  NOUN\n",
            ". --->  PUNCT\n",
            "Juan --->  PROPN\n",
            "Manuel --->  PROPN\n",
            "Fangio --->  PROPN\n",
            "is --->  AUX\n",
            "third --->  ADJ\n",
            "with --->  ADP\n",
            "five --->  NUM\n",
            "titles --->  NOUN\n",
            ". --->  PUNCT\n"
          ],
          "name": "stdout"
        }
      ]
    },
    {
      "cell_type": "code",
      "metadata": {
        "colab": {
          "base_uri": "https://localhost:8080/"
        },
        "id": "EZ2L1KbjPue6",
        "outputId": "6b95907b-448d-4ce9-8add-988906fb685b"
      },
      "source": [
        "# POS tagging\n",
        "for word in doc:\n",
        "    print(word.text,word.pos_)\n"
      ],
      "execution_count": null,
      "outputs": [
        {
          "output_type": "stream",
          "text": [
            "Lewis PROPN\n",
            "Hamilton PROPN\n",
            "and CCONJ\n",
            "Michael PROPN\n",
            "Schumacher PROPN\n",
            "hold VERB\n",
            "the DET\n",
            "record NOUN\n",
            "for ADP\n",
            "the DET\n",
            "most ADJ\n",
            "World PROPN\n",
            "Drivers PROPN\n",
            "' PART\n",
            "Championships PROPN\n",
            ", PUNCT\n",
            "both DET\n",
            "having VERB\n",
            "won VERB\n",
            "the DET\n",
            "title NOUN\n",
            "on ADP\n",
            "seven NUM\n",
            "occasions NOUN\n",
            ". PUNCT\n",
            "Juan PROPN\n",
            "Manuel PROPN\n",
            "Fangio PROPN\n",
            "is AUX\n",
            "third ADJ\n",
            "with ADP\n",
            "five NUM\n",
            "titles NOUN\n",
            ". PUNCT\n"
          ],
          "name": "stdout"
        }
      ]
    },
    {
      "cell_type": "code",
      "metadata": {
        "colab": {
          "base_uri": "https://localhost:8080/",
          "height": 85
        },
        "id": "sSoWURzwP-nc",
        "outputId": "a4dd0a89-df2b-45b0-fb00-7973054a8974"
      },
      "source": [
        "from spacy import displacy\n",
        "displacy.render(doc, style = \"ent\",jupyter = True)"
      ],
      "execution_count": null,
      "outputs": [
        {
          "output_type": "display_data",
          "data": {
            "text/html": [
              "<span class=\"tex2jax_ignore\"><div class=\"entities\" style=\"line-height: 2.5; direction: ltr\">\n",
              "<mark class=\"entity\" style=\"background: #aa9cfc; padding: 0.45em 0.6em; margin: 0 0.25em; line-height: 1; border-radius: 0.35em;\">\n",
              "    Lewis Hamilton\n",
              "    <span style=\"font-size: 0.8em; font-weight: bold; line-height: 1; border-radius: 0.35em; text-transform: uppercase; vertical-align: middle; margin-left: 0.5rem\">PERSON</span>\n",
              "</mark>\n",
              " and \n",
              "<mark class=\"entity\" style=\"background: #aa9cfc; padding: 0.45em 0.6em; margin: 0 0.25em; line-height: 1; border-radius: 0.35em;\">\n",
              "    Michael Schumacher\n",
              "    <span style=\"font-size: 0.8em; font-weight: bold; line-height: 1; border-radius: 0.35em; text-transform: uppercase; vertical-align: middle; margin-left: 0.5rem\">PERSON</span>\n",
              "</mark>\n",
              " hold the record for the most \n",
              "<mark class=\"entity\" style=\"background: #7aecec; padding: 0.45em 0.6em; margin: 0 0.25em; line-height: 1; border-radius: 0.35em;\">\n",
              "    World Drivers' Championships\n",
              "    <span style=\"font-size: 0.8em; font-weight: bold; line-height: 1; border-radius: 0.35em; text-transform: uppercase; vertical-align: middle; margin-left: 0.5rem\">ORG</span>\n",
              "</mark>\n",
              ", both having won the title on \n",
              "<mark class=\"entity\" style=\"background: #e4e7d2; padding: 0.45em 0.6em; margin: 0 0.25em; line-height: 1; border-radius: 0.35em;\">\n",
              "    seven\n",
              "    <span style=\"font-size: 0.8em; font-weight: bold; line-height: 1; border-radius: 0.35em; text-transform: uppercase; vertical-align: middle; margin-left: 0.5rem\">CARDINAL</span>\n",
              "</mark>\n",
              " occasions. \n",
              "<mark class=\"entity\" style=\"background: #aa9cfc; padding: 0.45em 0.6em; margin: 0 0.25em; line-height: 1; border-radius: 0.35em;\">\n",
              "    Juan Manuel Fangio\n",
              "    <span style=\"font-size: 0.8em; font-weight: bold; line-height: 1; border-radius: 0.35em; text-transform: uppercase; vertical-align: middle; margin-left: 0.5rem\">PERSON</span>\n",
              "</mark>\n",
              " is \n",
              "<mark class=\"entity\" style=\"background: #e4e7d2; padding: 0.45em 0.6em; margin: 0 0.25em; line-height: 1; border-radius: 0.35em;\">\n",
              "    third\n",
              "    <span style=\"font-size: 0.8em; font-weight: bold; line-height: 1; border-radius: 0.35em; text-transform: uppercase; vertical-align: middle; margin-left: 0.5rem\">ORDINAL</span>\n",
              "</mark>\n",
              " with \n",
              "<mark class=\"entity\" style=\"background: #e4e7d2; padding: 0.45em 0.6em; margin: 0 0.25em; line-height: 1; border-radius: 0.35em;\">\n",
              "    five\n",
              "    <span style=\"font-size: 0.8em; font-weight: bold; line-height: 1; border-radius: 0.35em; text-transform: uppercase; vertical-align: middle; margin-left: 0.5rem\">CARDINAL</span>\n",
              "</mark>\n",
              " titles.</div></span>"
            ],
            "text/plain": [
              "<IPython.core.display.HTML object>"
            ]
          },
          "metadata": {
            "tags": []
          }
        }
      ]
    },
    {
      "cell_type": "markdown",
      "metadata": {
        "id": "MvPt3T4fRLw3"
      },
      "source": [
        ""
      ]
    },
    {
      "cell_type": "markdown",
      "metadata": {
        "id": "ZapzchbgLLBY"
      },
      "source": [
        "# Answer B\n",
        "\n",
        "Extracting e-mail ids"
      ]
    },
    {
      "cell_type": "markdown",
      "metadata": {
        "id": "PViyrL5WREbb"
      },
      "source": [
        "\n",
        "#B. If you have a document about details of various employees. What if you want all the emails of employees\n",
        "to send a common email?\n",
        "employee_details=\"name : Koushiki age: 45 email : koushiki@gmail.com name : Gayathri age: 34 email:\n",
        "gayathri1999@gmail.com name : Ardra age: 60 email : ardra@gmail.com name : pratham parmar age: 15 email\n",
        ": parmar15@yahoo.com name : Shashank age: 54 email: shank@rediffmail.com name : Utkarsh age: 46 email\n",
        ":utkarsh@gmail.com”"
      ]
    },
    {
      "cell_type": "code",
      "metadata": {
        "id": "egGOWGrdHVMO"
      },
      "source": [
        "def extract_email_ids(text):\n",
        "  \n",
        "  # reading text \n",
        "  details = nlp(text)\n",
        "\n",
        "  # storing the email address\n",
        "  email_ids = []\n",
        "\n",
        "  # extracting and storing the email adresses in 'email_ids'\n",
        "  for token in details:\n",
        "    if token.like_email:\n",
        "      email_ids.append(token)   # appending the token if it's email address\n",
        "  \n",
        "  return email_ids"
      ],
      "execution_count": null,
      "outputs": []
    },
    {
      "cell_type": "code",
      "metadata": {
        "colab": {
          "base_uri": "https://localhost:8080/"
        },
        "id": "Of8xu4G9KTyx",
        "outputId": "68c96795-1a29-4bab-ec76-236ff8cf8043"
      },
      "source": [
        "list_email_ids = '''name : Koushiki age: 45 email : koushiki@gmail.com name : Gayathri age: 34 email: gayathri1999@gmail.com\\\n",
        " name : Ardra age: 60 email : ardra@gmail.com name : pratham parmar age: 15 email: parmar15@yahoo.com\\\n",
        " name : Shashank age: 54 email: shank@rediffmail.com name : Utkarsh age: 46 email: utkarsh@gmail.com'''\n",
        "\n",
        "\n",
        "# printing all the extracted email addresses from employee_details\n",
        "extract_email_ids(list_email_ids)"
      ],
      "execution_count": null,
      "outputs": [
        {
          "output_type": "execute_result",
          "data": {
            "text/plain": [
              "[koushiki@gmail.com,\n",
              " gayathri1999@gmail.com,\n",
              " ardra@gmail.com,\n",
              " parmar15@yahoo.com,\n",
              " shank@rediffmail.com,\n",
              " utkarsh@gmail.com]"
            ]
          },
          "metadata": {
            "tags": []
          },
          "execution_count": 6
        }
      ]
    },
    {
      "cell_type": "markdown",
      "metadata": {
        "id": "gke7Mst8RO8r"
      },
      "source": [
        "#we can use the list for sending e-mails"
      ]
    }
  ]
}